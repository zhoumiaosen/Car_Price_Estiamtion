{
  "cells": [
    {
      "cell_type": "markdown",
      "metadata": {
        "id": "xM30p5SHP3YC"
      },
      "source": [
        "#Load Functions"
      ]
    },
    {
      "cell_type": "code",
      "execution_count": 1,
      "metadata": {
        "id": "-_iKHjtVzo-1"
      },
      "outputs": [],
      "source": [
        "import torch\n",
        "import torch.nn as nn"
      ]
    },
    {
      "cell_type": "markdown",
      "metadata": {
        "id": "aCIuqrbqzvGw"
      },
      "source": [
        "#Model Function"
      ]
    },
    {
      "cell_type": "code",
      "execution_count": null,
      "metadata": {
        "id": "H-4AFIgRzuYC"
      },
      "outputs": [],
      "source": [
        "# Define Neural Network\n",
        "class PricePredictionModel(nn.Module):\n",
        "    def __init__(self,input_size):\n",
        "        super(PricePredictionModel, self).__init__()\n",
        "        self.fc1 = nn.Linear(input_size, 64)\n",
        "        self.dropout1 = nn.Dropout(0.5)\n",
        "        self.fc2 = nn.Linear(64, 32)\n",
        "        self.dropout2 = nn.Dropout(0.5)\n",
        "        self.fc3 = nn.Linear(32, 1)\n",
        "\n",
        "    def forward(self, x):\n",
        "        x = torch.relu(self.fc1(x))\n",
        "        x = self.dropout1(x)\n",
        "        x = torch.relu(self.fc2(x))\n",
        "        x = self.dropout2(x)\n",
        "        x = self.fc3(x)\n",
        "        return x\n",
        "\n",
        "def initialize_model(input_size):\n",
        "    \"\"\"\n",
        "    Initialize the PricePredictionModel with the given input size.\n",
        "\n",
        "    Args:\n",
        "        input_size (int): Number of input features.\n",
        "\n",
        "    Returns:\n",
        "        model (PricePredictionModel): Initialized model.\n",
        "    \"\"\"\n",
        "    model = PricePredictionModel(input_size)\n",
        "    return model"
      ]
    },
    {
      "cell_type": "code",
      "source": [
        "'''\n",
        "from model import initialize_model\n",
        "\n",
        "input_size = X_train.shape[1]\n",
        "model = initialize_model(input_size).to(device)\n",
        "'''"
      ],
      "metadata": {
        "id": "Mu7av5YPsb2z"
      },
      "execution_count": null,
      "outputs": []
    }
  ],
  "metadata": {
    "colab": {
      "provenance": []
    },
    "kernelspec": {
      "display_name": "Python 3",
      "name": "python3"
    },
    "language_info": {
      "name": "python"
    }
  },
  "nbformat": 4,
  "nbformat_minor": 0
}